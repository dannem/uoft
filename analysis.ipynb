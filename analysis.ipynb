{
 "cells": [
  {
   "cell_type": "code",
   "execution_count": 2,
   "metadata": {},
   "outputs": [],
   "source": [
    "import os, mne\n",
    "import matplotlib.pyplot as plt\n",
    "import numpy as np"
   ]
  },
  {
   "cell_type": "code",
   "execution_count": 9,
   "metadata": {},
   "outputs": [
    {
     "name": "stdout",
     "output_type": "stream",
     "text": [
      "Reading /Volumes/DANDELION/Ilya_study/Analysis/S14_imag-epo.fif ...\n",
      "    Found the data of interest:\n",
      "        t =    -100.00 ...    4995.00 ms\n",
      "        0 CTF compensation matrices available\n",
      "Not setting metadata\n",
      "480 matching events found\n",
      "No baseline correction applied\n",
      "0 projection items activated\n"
     ]
    }
   ],
   "source": [
    "epochs = mne.read_epochs('/Volumes/DANDELION/Ilya_study/Analysis/S14_imag-epo.fif', preload=True)"
   ]
  },
  {
   "cell_type": "code",
   "execution_count": 10,
   "metadata": {},
   "outputs": [
    {
     "data": {
      "text/html": [
       "<table class=\"table table-hover table-striped table-sm table-responsive small\">\n",
       "    <tr>\n",
       "        <th>Number of events</th>\n",
       "        <td>480</td>\n",
       "    </tr>\n",
       "    <tr>\n",
       "        <th>Events</th>\n",
       "        \n",
       "        <td>31: 96<br/>32: 96<br/>33: 96<br/>34: 96<br/>35: 96</td>\n",
       "        \n",
       "    </tr>\n",
       "    <tr>\n",
       "        <th>Time range</th>\n",
       "        <td>-0.100 – 4.995 s</td>\n",
       "    </tr>\n",
       "    <tr>\n",
       "        <th>Baseline</th>\n",
       "        <td>off</td>\n",
       "    </tr>\n",
       "</table>"
      ],
      "text/plain": [
       "<EpochsFIF |  480 events (all good), -0.1 – 4.995 s, baseline off, ~239.2 MB, data loaded,\n",
       " '31': 96\n",
       " '32': 96\n",
       " '33': 96\n",
       " '34': 96\n",
       " '35': 96>"
      ]
     },
     "execution_count": 10,
     "metadata": {},
     "output_type": "execute_result"
    }
   ],
   "source": [
    "epochs"
   ]
  },
  {
   "cell_type": "code",
   "execution_count": 25,
   "metadata": {},
   "outputs": [
    {
     "name": "stdout",
     "output_type": "stream",
     "text": [
      "Extracting EDF parameters from /Volumes/My Passport/Academic Backup/Ilya_data/famous faces data/IR_07_S01.bdf...\n",
      "BDF file detected\n",
      "Setting channel info structure...\n",
      "Creating raw.info structure...\n",
      "Reading 0 ... 3389439  =      0.000 ...  6619.998 secs...\n",
      "Trigger channel has a non-zero initial value of 65791 (consider using initial_event=True to detect this event)\n",
      "Removing orphaned offset at the beginning of the file.\n",
      "3215 events found\n",
      "Event IDs: [    1     2     3     4     5     6     7     8     9    10    11    12\n",
      "    21    22    23    24    25    26    27    28    29    30    31    32\n",
      "    33    34    35    99   101   102   103   104   105   106   107   108\n",
      "   109   110   111   112   113   114   115   116   117   118   119   120\n",
      "   121   122   123   124   125   126   127   128   129   130   131   132\n",
      "   133   134   135   136   137   138   139   140   141   142   143   144\n",
      "   145   146   147   148   149   150   151   152   153   154   201   202\n",
      "   203   204   205   206   207   208   209   210   211   212   213   214\n",
      "   215   216   217   218   219   220   221   222   223   224   225   226\n",
      "   227   228   229   230   231   232   233   234   235   236   237   238\n",
      "   239   240   241   242   243   244   245   246   247   248   249   250\n",
      "   251   252   253   254 65536 65734]\n",
      "Not setting metadata\n",
      "1 matching events found\n",
      "Setting baseline interval to [-0.19921875, 0.0] s\n",
      "Applying baseline correction (mode: mean)\n",
      "0 projection items activated\n",
      "NOTE: pick_channels() is a legacy function. New code should use inst.pick(...).\n"
     ]
    }
   ],
   "source": [
    "import os\n",
    "import mne\n",
    "\n",
    "\n",
    "# Specify your folder path\n",
    "folder_path = '/Volumes/My Passport/Academic Backup/Ilya_data/famous faces data'\n",
    "\n",
    "# Find BDF files\n",
    "bdf_files = [f for f in os.listdir(folder_path) if f.lower().endswith('.bdf')]\n",
    "\n",
    "# Load BDF files into raw structures\n",
    "raws = []\n",
    "for bdf_file in bdf_files[11:]:\n",
    "    raw = mne.io.read_raw_bdf(os.path.join(folder_path, bdf_file), preload=True)\n",
    "    montage = mne.channels.make_standard_montage(\"standard_1020\")\n",
    "    raw.set_montage(montage)\n",
    "    # Set common average reference\n",
    "    raw.set_eeg_reference(\"average\", projection=False, verbose=False)\n",
    "\n",
    "    # Apply bandpass filter\n",
    "    raw.filter(l_freq=0.1, h_freq=None, fir_design=\"firwin\", verbose=False)\n",
    "    events = mne.find_events(raw)\n",
    "    epochs = mne.Epochs(raw, events, event_id=1, tmin=-0.2, tmax=0.5, baseline=(None, 0))\n",
    "    evoked = epochs.average()\n",
    "    break\n",
    "\n",
    "    # Preprocess: ICA-based blink removal\n",
    "    # ica = mne.preprocessing.ICA(n_components=20, random_state=97, max_iter=800)\n",
    "    # ica.fit(raw)  # Fit ICA on concatenated data\n",
    "    # ica.apply(raw)  # Apply ICA to each raw structure\n"
   ]
  },
  {
   "cell_type": "code",
   "execution_count": 27,
   "metadata": {},
   "outputs": [
    {
     "name": "stdout",
     "output_type": "stream",
     "text": [
      "[    1     2     3     4     5     6     7     8     9    10    11    12\n",
      "    21    22    23    24    25    26    27    28    29    30    31    32\n",
      "    33    34    35    99   101   102   103   104   105   106   107   108\n",
      "   109   110   111   112   113   114   115   116   117   118   119   120\n",
      "   121   122   123   124   125   126   127   128   129   130   131   132\n",
      "   133   134   135   136   137   138   139   140   141   142   143   144\n",
      "   145   146   147   148   149   150   151   152   153   154   201   202\n",
      "   203   204   205   206   207   208   209   210   211   212   213   214\n",
      "   215   216   217   218   219   220   221   222   223   224   225   226\n",
      "   227   228   229   230   231   232   233   234   235   236   237   238\n",
      "   239   240   241   242   243   244   245   246   247   248   249   250\n",
      "   251   252   253   254 65536 65734] [  1   1   1   1   1   1   1   1   1   1   1   1   1   1   1   1   1   1\n",
      "   1   1   1   1  49  49  48  48  48 203  25  25  25  25  25  25  25  25\n",
      "  25  25  25  25  25  25  25  25  25  25  25  25  25  25  25  25  25  25\n",
      "  25  25  25  25  25  25  25  25  25  25  25  25  25  25  25  25  25  25\n",
      "  25  25  25  25  25  25  25  25  25  25  25  25  25  25  25  25  25  25\n",
      "  25  25  25  25  25  25  25  25  25  25  25  25  25  25  25  25  25  25\n",
      "  25  25  25  25  25  25  25  25  25  25  25  25  25  25  25  25  25  25\n",
      "  25  25  25  25  25  25  25  25  25  25  24  24]\n"
     ]
    }
   ],
   "source": [
    "unique, counts = np.unique(events[:,2], return_counts=True)\n",
    "print(unique, counts)"
   ]
  },
  {
   "cell_type": "code",
   "execution_count": 26,
   "metadata": {},
   "outputs": [
    {
     "data": {
      "text/plain": [
       "array([140, 146, 116, 136, 131, 109, 153,  99, 127, 125, 149, 147, 151,\n",
       "        99, 154,  99, 126, 113, 134, 111, 106, 102, 137, 123, 107, 108,\n",
       "       152,  99, 119, 105, 124, 141, 117, 101, 112, 121, 128, 114, 145,\n",
       "       138, 104, 130, 122, 139, 110, 133, 135, 132, 118, 150, 120, 144,\n",
       "       115, 143, 103, 148, 129, 142, 224, 234, 216, 222, 221, 204, 213,\n",
       "       253, 251,  99, 240, 207, 218, 226, 227, 230, 209, 245, 244, 212,\n",
       "       249, 252,  99, 217, 210, 206, 211, 225, 254,  99, 239, 243, 214,\n",
       "       248, 219, 236, 247, 201, 246, 250, 203, 215])"
      ]
     },
     "execution_count": 26,
     "metadata": {},
     "output_type": "execute_result"
    }
   ],
   "source": [
    "events[:100,2]"
   ]
  },
  {
   "cell_type": "code",
   "execution_count": 3,
   "metadata": {},
   "outputs": [
    {
     "data": {
      "text/html": [
       "<table class=\"table table-hover table-striped table-sm table-responsive small\">\n",
       "    <tr>\n",
       "        <th>Measurement date</th>\n",
       "        \n",
       "        <td>June 02, 2019  10:54:00 GMT</td>\n",
       "        \n",
       "    </tr>\n",
       "    <tr>\n",
       "        <th>Experimenter</th>\n",
       "        \n",
       "        <td>Unknown</td>\n",
       "        \n",
       "    </tr>\n",
       "        <th>Participant</th>\n",
       "        \n",
       "        <td>Unknown</td>\n",
       "        \n",
       "    </tr>\n",
       "    <tr>\n",
       "        <th>Digitized points</th>\n",
       "        \n",
       "        <td>Not available</td>\n",
       "        \n",
       "    </tr>\n",
       "    <tr>\n",
       "        <th>Good channels</th>\n",
       "        <td>64 EEG, 1 Stimulus</td>\n",
       "    </tr>\n",
       "    <tr>\n",
       "        <th>Bad channels</th>\n",
       "        <td>None</td>\n",
       "    </tr>\n",
       "    <tr>\n",
       "        <th>EOG channels</th>\n",
       "        <td>Not available</td>\n",
       "    </tr>\n",
       "    <tr>\n",
       "        <th>ECG channels</th>\n",
       "        <td>Not available</td>\n",
       "    \n",
       "    <tr>\n",
       "        <th>Sampling frequency</th>\n",
       "        <td>512.00 Hz</td>\n",
       "    </tr>\n",
       "    \n",
       "    \n",
       "    <tr>\n",
       "        <th>Highpass</th>\n",
       "        <td>0.00 Hz</td>\n",
       "    </tr>\n",
       "    \n",
       "    \n",
       "    <tr>\n",
       "        <th>Lowpass</th>\n",
       "        <td>104.00 Hz</td>\n",
       "    </tr>\n",
       "    \n",
       "    \n",
       "</table>"
      ],
      "text/plain": [
       "<Info | 7 non-empty values\n",
       " bads: []\n",
       " ch_names: Fp1, AF7, AF3, F1, F3, F5, F7, FT7, FC5, FC3, FC1, C1, C3, C5, ...\n",
       " chs: 64 EEG, 1 Stimulus\n",
       " custom_ref_applied: False\n",
       " highpass: 0.0 Hz\n",
       " lowpass: 104.0 Hz\n",
       " meas_date: 2019-06-02 10:54:00 UTC\n",
       " nchan: 65\n",
       " projs: []\n",
       " sfreq: 512.0 Hz\n",
       ">"
      ]
     },
     "execution_count": 3,
     "metadata": {},
     "output_type": "execute_result"
    }
   ],
   "source": [
    "raw.info"
   ]
  },
  {
   "cell_type": "code",
   "execution_count": 4,
   "metadata": {},
   "outputs": [
    {
     "name": "stdout",
     "output_type": "stream",
     "text": [
      "Using matplotlib as 2D backend.\n"
     ]
    },
    {
     "name": "stdout",
     "output_type": "stream",
     "text": [
      "Channels marked as bad:\n",
      "none\n"
     ]
    }
   ],
   "source": [
    "%matplotlib qt\n",
    "raw.crop(tmax=60)\n",
    "# Plot raw data with triggers\n",
    "raw.plot()\n",
    "plt.show()\n"
   ]
  },
  {
   "cell_type": "code",
   "execution_count": 5,
   "metadata": {},
   "outputs": [
    {
     "ename": "RuntimeError",
     "evalue": "No valid channel positions found",
     "output_type": "error",
     "traceback": [
      "\u001b[0;31m---------------------------------------------------------------------------\u001b[0m",
      "\u001b[0;31mRuntimeError\u001b[0m                              Traceback (most recent call last)",
      "Cell \u001b[0;32mIn[5], line 1\u001b[0m\n\u001b[0;32m----> 1\u001b[0m \u001b[43mraw\u001b[49m\u001b[38;5;241;43m.\u001b[39;49m\u001b[43mplot_sensors\u001b[49m\u001b[43m(\u001b[49m\u001b[43mshow_names\u001b[49m\u001b[38;5;241;43m=\u001b[39;49m\u001b[38;5;28;43;01mTrue\u001b[39;49;00m\u001b[43m)\u001b[49m\n\u001b[1;32m      2\u001b[0m fig \u001b[38;5;241m=\u001b[39m raw\u001b[38;5;241m.\u001b[39mplot_sensors(\u001b[38;5;124m\"\u001b[39m\u001b[38;5;124m3d\u001b[39m\u001b[38;5;124m\"\u001b[39m)\n",
      "File \u001b[0;32m<decorator-gen-49>:12\u001b[0m, in \u001b[0;36mplot_sensors\u001b[0;34m(self, kind, ch_type, title, show_names, ch_groups, to_sphere, axes, block, show, sphere, verbose)\u001b[0m\n",
      "File \u001b[0;32m~/opt/anaconda3/envs/mne/lib/python3.10/site-packages/mne/channels/channels.py:603\u001b[0m, in \u001b[0;36mSetChannelsMixin.plot_sensors\u001b[0;34m(self, kind, ch_type, title, show_names, ch_groups, to_sphere, axes, block, show, sphere, verbose)\u001b[0m\n\u001b[1;32m    532\u001b[0m \u001b[38;5;124;03m\"\"\"Plot sensor positions.\u001b[39;00m\n\u001b[1;32m    533\u001b[0m \n\u001b[1;32m    534\u001b[0m \u001b[38;5;124;03mParameters\u001b[39;00m\n\u001b[0;32m   (...)\u001b[0m\n\u001b[1;32m    599\u001b[0m \u001b[38;5;124;03m.. versionadded:: 0.12.0\u001b[39;00m\n\u001b[1;32m    600\u001b[0m \u001b[38;5;124;03m\"\"\"\u001b[39;00m\n\u001b[1;32m    601\u001b[0m \u001b[38;5;28;01mfrom\u001b[39;00m \u001b[38;5;21;01m.\u001b[39;00m\u001b[38;5;21;01m.\u001b[39;00m\u001b[38;5;21;01mviz\u001b[39;00m\u001b[38;5;21;01m.\u001b[39;00m\u001b[38;5;21;01mutils\u001b[39;00m \u001b[38;5;28;01mimport\u001b[39;00m plot_sensors\n\u001b[0;32m--> 603\u001b[0m \u001b[38;5;28;01mreturn\u001b[39;00m \u001b[43mplot_sensors\u001b[49m\u001b[43m(\u001b[49m\n\u001b[1;32m    604\u001b[0m \u001b[43m    \u001b[49m\u001b[38;5;28;43mself\u001b[39;49m\u001b[38;5;241;43m.\u001b[39;49m\u001b[43minfo\u001b[49m\u001b[43m,\u001b[49m\n\u001b[1;32m    605\u001b[0m \u001b[43m    \u001b[49m\u001b[43mkind\u001b[49m\u001b[38;5;241;43m=\u001b[39;49m\u001b[43mkind\u001b[49m\u001b[43m,\u001b[49m\n\u001b[1;32m    606\u001b[0m \u001b[43m    \u001b[49m\u001b[43mch_type\u001b[49m\u001b[38;5;241;43m=\u001b[39;49m\u001b[43mch_type\u001b[49m\u001b[43m,\u001b[49m\n\u001b[1;32m    607\u001b[0m \u001b[43m    \u001b[49m\u001b[43mtitle\u001b[49m\u001b[38;5;241;43m=\u001b[39;49m\u001b[43mtitle\u001b[49m\u001b[43m,\u001b[49m\n\u001b[1;32m    608\u001b[0m \u001b[43m    \u001b[49m\u001b[43mshow_names\u001b[49m\u001b[38;5;241;43m=\u001b[39;49m\u001b[43mshow_names\u001b[49m\u001b[43m,\u001b[49m\n\u001b[1;32m    609\u001b[0m \u001b[43m    \u001b[49m\u001b[43mch_groups\u001b[49m\u001b[38;5;241;43m=\u001b[39;49m\u001b[43mch_groups\u001b[49m\u001b[43m,\u001b[49m\n\u001b[1;32m    610\u001b[0m \u001b[43m    \u001b[49m\u001b[43mto_sphere\u001b[49m\u001b[38;5;241;43m=\u001b[39;49m\u001b[43mto_sphere\u001b[49m\u001b[43m,\u001b[49m\n\u001b[1;32m    611\u001b[0m \u001b[43m    \u001b[49m\u001b[43maxes\u001b[49m\u001b[38;5;241;43m=\u001b[39;49m\u001b[43maxes\u001b[49m\u001b[43m,\u001b[49m\n\u001b[1;32m    612\u001b[0m \u001b[43m    \u001b[49m\u001b[43mblock\u001b[49m\u001b[38;5;241;43m=\u001b[39;49m\u001b[43mblock\u001b[49m\u001b[43m,\u001b[49m\n\u001b[1;32m    613\u001b[0m \u001b[43m    \u001b[49m\u001b[43mshow\u001b[49m\u001b[38;5;241;43m=\u001b[39;49m\u001b[43mshow\u001b[49m\u001b[43m,\u001b[49m\n\u001b[1;32m    614\u001b[0m \u001b[43m    \u001b[49m\u001b[43msphere\u001b[49m\u001b[38;5;241;43m=\u001b[39;49m\u001b[43msphere\u001b[49m\u001b[43m,\u001b[49m\n\u001b[1;32m    615\u001b[0m \u001b[43m    \u001b[49m\u001b[43mverbose\u001b[49m\u001b[38;5;241;43m=\u001b[39;49m\u001b[43mverbose\u001b[49m\u001b[43m,\u001b[49m\n\u001b[1;32m    616\u001b[0m \u001b[43m\u001b[49m\u001b[43m)\u001b[49m\n",
      "File \u001b[0;32m<decorator-gen-106>:12\u001b[0m, in \u001b[0;36mplot_sensors\u001b[0;34m(info, kind, ch_type, title, show_names, ch_groups, to_sphere, axes, block, show, sphere, pointsize, linewidth, verbose)\u001b[0m\n",
      "File \u001b[0;32m~/opt/anaconda3/envs/mne/lib/python3.10/site-packages/mne/viz/utils.py:1138\u001b[0m, in \u001b[0;36mplot_sensors\u001b[0;34m(info, kind, ch_type, title, show_names, ch_groups, to_sphere, axes, block, show, sphere, pointsize, linewidth, verbose)\u001b[0m\n\u001b[1;32m   1135\u001b[0m     \u001b[38;5;28;01mraise\u001b[39;00m \u001b[38;5;167;01mValueError\u001b[39;00m(\u001b[38;5;124mf\u001b[39m\u001b[38;5;124m\"\u001b[39m\u001b[38;5;124mCould not find any channels of type \u001b[39m\u001b[38;5;132;01m{\u001b[39;00mch_type\u001b[38;5;132;01m}\u001b[39;00m\u001b[38;5;124m.\u001b[39m\u001b[38;5;124m\"\u001b[39m)\n\u001b[1;32m   1137\u001b[0m \u001b[38;5;28;01mif\u001b[39;00m \u001b[38;5;129;01mnot\u001b[39;00m _check_ch_locs(info\u001b[38;5;241m=\u001b[39minfo, picks\u001b[38;5;241m=\u001b[39mpicks):\n\u001b[0;32m-> 1138\u001b[0m     \u001b[38;5;28;01mraise\u001b[39;00m \u001b[38;5;167;01mRuntimeError\u001b[39;00m(\u001b[38;5;124m\"\u001b[39m\u001b[38;5;124mNo valid channel positions found\u001b[39m\u001b[38;5;124m\"\u001b[39m)\n\u001b[1;32m   1140\u001b[0m dev_head_t \u001b[38;5;241m=\u001b[39m info[\u001b[38;5;124m\"\u001b[39m\u001b[38;5;124mdev_head_t\u001b[39m\u001b[38;5;124m\"\u001b[39m]\n\u001b[1;32m   1141\u001b[0m chs \u001b[38;5;241m=\u001b[39m [info[\u001b[38;5;124m\"\u001b[39m\u001b[38;5;124mchs\u001b[39m\u001b[38;5;124m\"\u001b[39m][pick] \u001b[38;5;28;01mfor\u001b[39;00m pick \u001b[38;5;129;01min\u001b[39;00m picks]\n",
      "\u001b[0;31mRuntimeError\u001b[0m: No valid channel positions found"
     ]
    }
   ],
   "source": [
    "raw.plot_sensors(show_names=True)\n",
    "fig = raw.plot_sensors(\"3d\")"
   ]
  }
 ],
 "metadata": {
  "kernelspec": {
   "display_name": "Python 3",
   "language": "python",
   "name": "python3"
  },
  "language_info": {
   "codemirror_mode": {
    "name": "ipython",
    "version": 3
   },
   "file_extension": ".py",
   "mimetype": "text/x-python",
   "name": "python",
   "nbconvert_exporter": "python",
   "pygments_lexer": "ipython3",
   "version": "3.10.9"
  }
 },
 "nbformat": 4,
 "nbformat_minor": 2
}
